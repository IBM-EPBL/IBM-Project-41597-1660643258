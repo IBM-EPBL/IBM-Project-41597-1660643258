{
  "nbformat": 4,
  "nbformat_minor": 0,
  "metadata": {
    "colab": {
      "provenance": []
    },
    "kernelspec": {
      "name": "python3",
      "display_name": "Python 3"
    },
    "language_info": {
      "name": "python"
    }
  },
  "cells": [
    {
      "cell_type": "code",
      "execution_count": null,
      "metadata": {
        "id": "st6076KV047o"
      },
      "outputs": [],
      "source": [
        "import tensorflow as tf\n",
        "tf.keras.preprocessing.image_dataset_from_directory(\n",
        "    directory,\n",
        "    labels=\"inferred\",\n",
        "    label_mode=\"int\",\n",
        "    class_names=None,\n",
        "    color_mode=\"rgb\",\n",
        "    batch_size=32,\n",
        "    image_size=(256, 256),\n",
        "    shuffle=True,\n",
        "    seed=None,\n",
        "    validation_split=None,\n",
        "    subset=None,\n",
        "    interpolation=\"bilinear\",\n",
        "    follow_links=False,\n",
        "    crop_to_aspect_ratio=False,\n",
        "    **kwargs\n",
        ")\n",
        "tf.keras.preprocessing.image.load_img(\n",
        "    path, grayscale=False, color_mode=\"rgb\", target_size=None, interpolation=\"nearest\"\n",
        ")\n",
        "image = tf.keras.preprocessing.image.load_img(image_path)\n",
        "input_arr = tf.keras.preprocessing.image.img_to_array(image)\n",
        "input_arr = np.array([input_arr])\n",
        "predictions = model.predict(input_arr)\n",
        "tf.keras.preprocessing.image.img_to_array(img, data_format=None, dtype=None)\n",
        "from PIL import Image\n",
        "img_data = np.random.random(size=(100, 100, 3))\n",
        "img = tf.keras.preprocessing.image.array_to_img(img_data)\n",
        "array = tf.keras.preprocessing.image.img_to_array(img)"
      ]
    }
  ]
}